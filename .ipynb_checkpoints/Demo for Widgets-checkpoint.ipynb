{
 "cells": [
  {
   "cell_type": "code",
   "execution_count": 1,
   "metadata": {},
   "outputs": [],
   "source": [
    "%load_ext autoreload\n",
    "%autoreload 2"
   ]
  },
  {
   "cell_type": "code",
   "execution_count": 2,
   "metadata": {},
   "outputs": [],
   "source": [
    "import cv2\n",
    "import numpy as np\n",
    "import numpy.linalg as npl\n",
    "from matplotlib import pyplot as plt\n",
    "from matplotlib import cbook\n",
    "import ipywidgets as widgets\n",
    "import time\n",
    "import timeit"
   ]
  },
  {
   "cell_type": "code",
   "execution_count": 3,
   "metadata": {},
   "outputs": [],
   "source": [
    "from helpers import *"
   ]
  },
  {
   "cell_type": "code",
   "execution_count": 4,
   "metadata": {},
   "outputs": [],
   "source": [
    "EXAMPLE_DIR = 'church'\n",
    "\n",
    "# Global params - ~preferences menu options\n",
    "DEPTH_RES = 128     # resolution of depth map along z-axis\n",
    "ON_SURFACE = True   # automatically place point lights just above surface\n",
    "\n"
   ]
  },
  {
   "cell_type": "markdown",
   "metadata": {},
   "source": [
    "I'll add the FigureWidget here!"
   ]
  },
  {
   "cell_type": "code",
   "execution_count": 5,
   "metadata": {},
   "outputs": [],
   "source": [
    "# marks code"
   ]
  },
  {
   "cell_type": "markdown",
   "metadata": {},
   "source": [
    "# Add widget examples below this point:"
   ]
  },
  {
   "cell_type": "markdown",
   "metadata": {},
   "source": [
    "### Button"
   ]
  },
  {
   "cell_type": "code",
   "execution_count": 72,
   "metadata": {},
   "outputs": [
    {
     "data": {
      "application/vnd.jupyter.widget-view+json": {
       "model_id": "080eadf9885b4f73a532c295e3e80851",
       "version_major": 2,
       "version_minor": 0
      },
      "text/plain": [
       "Button(description='Relight', style=ButtonStyle())"
      ]
     },
     "metadata": {},
     "output_type": "display_data"
    }
   ],
   "source": [
    "relight_button = widgets.Button(description=\"Relight\")\n",
    "\n",
    "#Define the interaction that happened when the button is clicked\n",
    "def callback_button(button):\n",
    "    print(\"ta-da\")\n",
    "    \n",
    "#bind the function to \"on_click\" callback of the Button\n",
    "relight_button.on_click(callback_button)\n",
    "\n",
    "#display the widget\n",
    "display(relight_button)"
   ]
  },
  {
   "cell_type": "markdown",
   "metadata": {},
   "source": [
    "### Text input, aligned horizontally"
   ]
  },
  {
   "cell_type": "code",
   "execution_count": 133,
   "metadata": {},
   "outputs": [
    {
     "data": {
      "application/vnd.jupyter.widget-view+json": {
       "model_id": "4cc97013fc3041d8bb14d74b66585a34",
       "version_major": 2,
       "version_minor": 0
      },
      "text/plain": [
       "HBox(children=(Text(value='1', description='X:', layout=Layout(margin='0px -20px', width='150px')), Text(value…"
      ]
     },
     "metadata": {},
     "output_type": "display_data"
    }
   ],
   "source": [
    "# save styles for our text box inputs\n",
    "# this is to avoid repeating code when initializing text box inputs\n",
    "vector_input_layout = widgets.Layout(width='150px', margin='0px -20px')\n",
    "coef_input_layout = widgets.Layout(width='150px', margin='0px 40px')\n",
    "coef_input_style = {'description_width': 'initial'} \n",
    "\n",
    "# create each individual text input area\n",
    "x_input = widgets.Text(value='1', description='X:',disabled=False, layout=vector_input_layout)\n",
    "y_input = widgets.Text(value='0', description='Y:', disabled=False, layout=vector_input_layout)\n",
    "z_input = widgets.Text(value='0.2', description='Z:', disabled=False, layout=vector_input_layout)\n",
    "coef_input = widgets.Text(value='0.5', description='Light strength:', disabled=False, layout=coef_input_layout, style=coef_input_style)\n",
    "\n",
    "# Align the inputs horizontally in a flexbox container\n",
    "# can also use VBox to align items vertically, more on it here: https://ipywidgets.readthedocs.io/en/stable/examples/Widget%20List.html#vbox\n",
    "vector_input = widgets.HBox([x_input, y_input, z_input, coef_input], layout=widgets.Layout(justify_content='flex-start'))\n",
    "\n",
    "# Display just the container, not the individual text inputs\n",
    "display(vector_input)"
   ]
  },
  {
   "cell_type": "code",
   "execution_count": 134,
   "metadata": {},
   "outputs": [
    {
     "data": {
      "text/plain": [
       "1"
      ]
     },
     "execution_count": 134,
     "metadata": {},
     "output_type": "execute_result"
    }
   ],
   "source": [
    "# to access the text input as a number:\n",
    "int(x_input.value)"
   ]
  },
  {
   "cell_type": "markdown",
   "metadata": {},
   "source": [
    "### Color picker"
   ]
  },
  {
   "cell_type": "code",
   "execution_count": 135,
   "metadata": {},
   "outputs": [
    {
     "data": {
      "application/vnd.jupyter.widget-view+json": {
       "model_id": "7b7c69c720284836a4536bdfe15c9a90",
       "version_major": 2,
       "version_minor": 0
      },
      "text/plain": [
       "ColorPicker(value='white', concise=True, description='Pick the light color', style=DescriptionStyle(descriptio…"
      ]
     },
     "metadata": {},
     "output_type": "display_data"
    }
   ],
   "source": [
    "color_picker_style = {'description_width': 'initial'} # CSS code, this is to prevent cutting off the label text\n",
    "\n",
    "color_picker = widgets.ColorPicker(\n",
    "    concise=True, # prevent a text box w the color name from popping out\n",
    "    description='Pick the light color',\n",
    "    value='white', # default value\n",
    "    disabled=False,\n",
    "    style = color_picker_style\n",
    ")\n",
    "\n",
    "display(color_picker)"
   ]
  },
  {
   "cell_type": "code",
   "execution_count": 136,
   "metadata": {},
   "outputs": [
    {
     "data": {
      "text/plain": [
       "'white'"
      ]
     },
     "execution_count": 136,
     "metadata": {},
     "output_type": "execute_result"
    }
   ],
   "source": [
    "color_picker.value # will produce either a generic name (for common colors) or a hex code"
   ]
  }
 ],
 "metadata": {
  "kernelspec": {
   "display_name": "Python 3 (ipykernel)",
   "language": "python",
   "name": "python3"
  },
  "language_info": {
   "codemirror_mode": {
    "name": "ipython",
    "version": 3
   },
   "file_extension": ".py",
   "mimetype": "text/x-python",
   "name": "python",
   "nbconvert_exporter": "python",
   "pygments_lexer": "ipython3",
   "version": "3.9.12"
  }
 },
 "nbformat": 4,
 "nbformat_minor": 1
}
