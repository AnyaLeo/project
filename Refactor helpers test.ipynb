{
 "cells": [
  {
   "cell_type": "code",
   "execution_count": null,
   "metadata": {
    "collapsed": true,
    "ExecuteTime": {
     "start_time": "2023-04-22T16:39:29.298767Z",
     "end_time": "2023-04-22T16:39:29.518242Z"
    }
   },
   "outputs": [],
   "source": [
    "%load_ext autoreload\n",
    "%autoreload 2"
   ]
  },
  {
   "cell_type": "code",
   "execution_count": null,
   "outputs": [],
   "source": [
    "import cv2\n",
    "import numpy as np\n",
    "import numpy.linalg as npl\n",
    "from matplotlib import pyplot as plt\n",
    "from matplotlib import cbook\n",
    "import ipywidgets as widgets\n",
    "import time\n",
    "import timeit"
   ],
   "metadata": {
    "collapsed": false,
    "ExecuteTime": {
     "start_time": "2023-04-22T16:39:29.496110Z",
     "end_time": "2023-04-22T16:39:31.332931Z"
    }
   }
  },
  {
   "cell_type": "code",
   "execution_count": null,
   "outputs": [],
   "source": [
    "from helpers import apply_surface_lighting"
   ],
   "metadata": {
    "collapsed": false,
    "ExecuteTime": {
     "start_time": "2023-04-22T17:00:55.732439Z",
     "end_time": "2023-04-22T17:00:55.771517Z"
    }
   }
  },
  {
   "cell_type": "code",
   "execution_count": null,
   "outputs": [],
   "source": [
    "EXAMPLE_DIR = 'church'\n",
    "DEPTH_RES = 128\n",
    "ON_SURFACE = False\n",
    "PRINT_DEBUG = True"
   ],
   "metadata": {
    "collapsed": false,
    "ExecuteTime": {
     "start_time": "2023-04-22T17:20:29.215088Z",
     "end_time": "2023-04-22T17:20:29.246280Z"
    }
   }
  },
  {
   "cell_type": "code",
   "execution_count": null,
   "outputs": [],
   "source": [
    "image = cv2.imread(f'./data/{EXAMPLE_DIR}/input.png')\n",
    "depth = cv2.imread(f'./data/{EXAMPLE_DIR}/depth_metric_r20.png', cv2.IMREAD_ANYDEPTH)\n",
    "normals = cv2.imread(f'./data/{EXAMPLE_DIR}/normals.png')\n",
    "shading = cv2.imread(f'./data/{EXAMPLE_DIR}/ours_shd.png')\n",
    "albedo = cv2.imread(f'./data/{EXAMPLE_DIR}/ours_alb.png')\n",
    "\n",
    "# Preprocessing\n",
    "image = cv2.cvtColor(image, cv2.COLOR_BGR2RGB)\n",
    "image = image / np.max(image)\n",
    "\n",
    "depth = np.array(depth / np.max(depth) * DEPTH_RES, dtype='uint8')\n",
    "depth = DEPTH_RES - depth\n",
    "\n",
    "# normals = cv2.cvtColor(normals, cv2.COLOR_BGR2RGB)\n",
    "normals = ((normals / np.max(normals)) * 2) - 1\n",
    "\n",
    "albedo = cv2.cvtColor(albedo, cv2.COLOR_BGR2RGB)\n",
    "albedo = albedo / np.max(albedo)"
   ],
   "metadata": {
    "collapsed": false,
    "ExecuteTime": {
     "start_time": "2023-04-22T17:07:43.688669Z",
     "end_time": "2023-04-22T17:07:43.891278Z"
    }
   }
  },
  {
   "cell_type": "code",
   "execution_count": null,
   "outputs": [],
   "source": [
    "# Display image and mid-level image representations\n",
    "fig, ax = plt.subplot_mosaic([['image', 'depth', 'normals', 'albedo']], figsize=(7, 3.5))\n",
    "ax['image'].imshow(image)\n",
    "ax['image'].axis('off')\n",
    "ax['image'].set_title('Image')\n",
    "\n",
    "ax['depth'].imshow(depth, cmap='gray')\n",
    "ax['depth'].axis('off')\n",
    "ax['depth'].set_title('Depth')\n",
    "\n",
    "ax['normals'].imshow(normals)\n",
    "ax['normals'].axis('off')\n",
    "ax['normals'].set_title('Normals')\n",
    "\n",
    "ax['albedo'].imshow(albedo)\n",
    "ax['albedo'].axis('off')\n",
    "ax['albedo'].set_title('Albedo')\n",
    "\n",
    "fig.suptitle(f'Mid Level Decomposition for \"{EXAMPLE_DIR}\"')"
   ],
   "metadata": {
    "collapsed": false,
    "ExecuteTime": {
     "start_time": "2023-04-22T17:07:44.695837Z",
     "end_time": "2023-04-22T17:07:46.113450Z"
    }
   }
  },
  {
   "cell_type": "markdown",
   "source": [
    "## Refactor of **create_meshgrid**"
   ],
   "metadata": {
    "collapsed": false
   }
  },
  {
   "cell_type": "code",
   "execution_count": null,
   "outputs": [],
   "source": [
    "# Refactored meshgrid, returns a flattened 2D RGB image, where R=x-coordinate, G=y-coordinate, B=z-coordinate\n",
    "def create_flat_vector_field(depth_map, z_axis_resolution=128, return_full=False):\n",
    "    if np.max(depth_map) != z_axis_resolution and np.min(depth_map) != 0:\n",
    "        print(f\"This should not print!\")\n",
    "        # Note: depth_map should be read using \"cv2.imread('.', cv2.IMREAD_ANYDEPTH)\"\n",
    "        depth_map = np.array(depth_map / np.max(depth_map) * z_axis_resolution, dtype='uint8')\n",
    "        depth_map = z_axis_resolution - depth_map  # Convert disparity map to depth map\n",
    "    depth_map_x_dim, depth_map_y_dim = depth_map.shape\n",
    "    x = np.arange(0, depth_map_x_dim)\n",
    "    y = np.arange(0, depth_map_y_dim)\n",
    "    z = np.arange(0, z_axis_resolution)\n",
    "\n",
    "    xx, yy, zz = np.meshgrid(x, y, z, sparse=True)\n",
    "\n",
    "    dense_x = np.ones((depth_map_y_dim, depth_map_x_dim, z_axis_resolution)) * xx\n",
    "    dense_y = np.ones((depth_map_y_dim, depth_map_x_dim, z_axis_resolution)) * yy\n",
    "    dense_z = np.ones((depth_map_y_dim, depth_map_x_dim, z_axis_resolution)) * zz\n",
    "\n",
    "    vector_field = np.stack((dense_y, dense_x, dense_z), axis=-1)\n",
    "    flat_vector_field = np.zeros((depth_map_y_dim, depth_map_x_dim, 3))\n",
    "    # Works up to here\n",
    "    for i in range(depth_map_y_dim):\n",
    "        for j in range(depth_map_x_dim):\n",
    "            d = depth[j, i] - 1\n",
    "            v = vector_field[i, j, d]\n",
    "            flat_vector_field[i, j] = v\n",
    "    if return_full:\n",
    "        return flat_vector_field, vector_field\n",
    "    return flat_vector_field"
   ],
   "metadata": {
    "collapsed": false,
    "ExecuteTime": {
     "start_time": "2023-04-22T17:07:46.168026Z",
     "end_time": "2023-04-22T17:07:46.213208Z"
    }
   }
  },
  {
   "cell_type": "code",
   "execution_count": null,
   "outputs": [],
   "source": [
    "# Tests for flat vector field\n",
    "fvf = create_flat_vector_field(depth)\n",
    "depth_map = depth - 1\n",
    "test_coords = [[5, 5, depth_map[5, 5]], [715, 220, depth_map[715, 220]], [100, 100, depth_map[100, 100]], [550, 350, depth_map[550, 350]]]\n",
    "print(test_coords)\n",
    "print(fvf[5, 5], fvf[715, 220], fvf[100, 100], fvf[550, 350])"
   ],
   "metadata": {
    "collapsed": false,
    "ExecuteTime": {
     "start_time": "2023-04-22T17:18:52.826374Z",
     "end_time": "2023-04-22T17:19:02.668508Z"
    }
   }
  },
  {
   "cell_type": "markdown",
   "source": [],
   "metadata": {
    "collapsed": false
   }
  },
  {
   "cell_type": "code",
   "execution_count": null,
   "outputs": [],
   "source": [
    "t0 = time.perf_counter()\n",
    "flat_vec_field = create_flat_vector_field(depth)\n",
    "t1 = time.perf_counter()\n",
    "print(f\"Meshgrid created in {t1-t0} seconds\")"
   ],
   "metadata": {
    "collapsed": false,
    "ExecuteTime": {
     "start_time": "2023-04-22T19:10:41.884624Z",
     "end_time": "2023-04-22T19:10:51.631712Z"
    }
   }
  },
  {
   "cell_type": "markdown",
   "source": [
    "## Refactor **get_surface_lighting** + **unit_direction_3D**"
   ],
   "metadata": {
    "collapsed": false
   }
  },
  {
   "cell_type": "code",
   "execution_count": null,
   "outputs": [],
   "source": [
    "def point_light_3d(point, vector_field, attenuation_coef1=0.005, attenuation_coef2=0.05):\n",
    "    directions_grid = vector_field - point\n",
    "    magnitude = np.linalg.norm(directions_grid, axis=2)\n",
    "    unit_direction_grid = directions_grid / magnitude[..., np.newaxis]\n",
    "    magnitude_expanded = np.dstack([magnitude, magnitude, magnitude])\n",
    "    attenuated_light = unit_direction_grid / (1 + attenuation_coef1 * magnitude_expanded + (attenuation_coef2 * 0.01 * magnitude_expanded**2))\n",
    "    unit_direction_grid = np.swapaxes(unit_direction_grid, 0, 1)\n",
    "    attenuated_light = np.swapaxes(attenuated_light, 0, 1)\n",
    "    return unit_direction_grid, attenuated_light, magnitude\n"
   ],
   "metadata": {
    "collapsed": false,
    "ExecuteTime": {
     "start_time": "2023-04-22T19:55:39.369585Z",
     "end_time": "2023-04-22T19:55:39.384233Z"
    }
   }
  },
  {
   "cell_type": "code",
   "execution_count": null,
   "outputs": [],
   "source": [
    "light_origin = np.array([250, 250, 5])\n",
    "\n",
    "# Hardcoded shortcut to place light just on top of surface\n",
    "if ON_SURFACE:\n",
    "    light_origin[2] = depth[light_origin[0], light_origin[1]] - 16\n",
    "\n",
    "t0 = time.perf_counter()\n",
    "light_vector_field, attenuated_light ,light_magnitude_field = point_light_3d(light_origin, flat_vec_field)\n",
    "t1 = time.perf_counter()\n",
    "print(f\"Vector field and Magnitude field created in {t1-t0} seconds\")\n",
    "print(f\"{flat_vec_field[500, 250]}\")\n",
    "\n",
    "t0 = time.perf_counter()\n",
    "relit_image = apply_surface_lighting(attenuated_light, light_magnitude_field, normals, albedo, light_colour=[1, 1, 1])\n",
    "t1 = time.perf_counter()\n",
    "print(f\"Image relit in {t1-t0}\")"
   ],
   "metadata": {
    "collapsed": false,
    "ExecuteTime": {
     "start_time": "2023-04-22T19:26:58.844558Z",
     "end_time": "2023-04-22T19:26:59.058168Z"
    }
   }
  },
  {
   "cell_type": "code",
   "execution_count": null,
   "outputs": [],
   "source": [
    "plt.imshow(relit_image)\n",
    "plt.axis('off')\n"
   ],
   "metadata": {
    "collapsed": false,
    "ExecuteTime": {
     "start_time": "2023-04-22T19:27:00.367529Z",
     "end_time": "2023-04-22T19:27:00.689148Z"
    }
   }
  },
  {
   "cell_type": "markdown",
   "source": [],
   "metadata": {
    "collapsed": false
   }
  },
  {
   "cell_type": "markdown",
   "source": [
    "## Refactor of **apply_surface_lighting**"
   ],
   "metadata": {
    "collapsed": false
   }
  },
  {
   "cell_type": "code",
   "execution_count": null,
   "outputs": [],
   "source": [
    "def calculate_shading(light_vectors, normals, light_colour=None):\n",
    "    if light_colour is None:\n",
    "        light_colour = [1, 1, 1]\n",
    "    light_direction_times_normals = light_vectors * normals\n",
    "    new_shading = np.sum(light_direction_times_normals, axis=2) / 3\n",
    "    new_shading = np.dstack([new_shading, new_shading, new_shading]) * light_colour\n",
    "    return new_shading\n",
    "\n",
    "def apply_shading(shading, albedo, intensity=5):\n",
    "    new_image = shading * albedo * intensity\n",
    "    return new_image"
   ],
   "metadata": {
    "collapsed": false,
    "ExecuteTime": {
     "start_time": "2023-04-22T20:01:56.570996Z",
     "end_time": "2023-04-22T20:01:56.591273Z"
    }
   }
  },
  {
   "cell_type": "code",
   "execution_count": null,
   "outputs": [],
   "source": [
    "lights = np.array([[150, 50, 0], [150, 100, 0], [150, 1500, 0], [150, 200, 0], [150, 250, 0], [150, 300, 0], [150, 350, 0], [150, 400, 0], [150, 450, 0]])\n",
    "shadings = []\n",
    "shading_sum = np.zeros_like(image).astype('float64')\n",
    "for light in lights:\n",
    "    light_vectors = point_light_3d(light, flat_vec_field)[1]\n",
    "    shading = calculate_shading(light_vectors, normals)\n",
    "    shading_sum += np.abs(shading)\n",
    "new_image = apply_shading(shading_sum, albedo, intensity=25)"
   ],
   "metadata": {
    "collapsed": false,
    "ExecuteTime": {
     "start_time": "2023-04-22T20:02:09.694683Z",
     "end_time": "2023-04-22T20:02:11.229731Z"
    }
   }
  },
  {
   "cell_type": "code",
   "execution_count": null,
   "outputs": [],
   "source": [
    "plt.imshow(new_image)\n",
    "plt.axis('off')"
   ],
   "metadata": {
    "collapsed": false,
    "ExecuteTime": {
     "start_time": "2023-04-22T20:02:11.228442Z",
     "end_time": "2023-04-22T20:02:11.569095Z"
    }
   }
  },
  {
   "cell_type": "code",
   "execution_count": null,
   "outputs": [],
   "source": [],
   "metadata": {
    "collapsed": false,
    "ExecuteTime": {
     "start_time": "2023-04-22T19:57:00.250173Z",
     "end_time": "2023-04-22T19:57:00.294228Z"
    }
   }
  },
  {
   "cell_type": "code",
   "execution_count": null,
   "outputs": [],
   "source": [],
   "metadata": {
    "collapsed": false
   }
  }
 ],
 "metadata": {
  "kernelspec": {
   "display_name": "Python 3",
   "language": "python",
   "name": "python3"
  },
  "language_info": {
   "codemirror_mode": {
    "name": "ipython",
    "version": 2
   },
   "file_extension": ".py",
   "mimetype": "text/x-python",
   "name": "python",
   "nbconvert_exporter": "python",
   "pygments_lexer": "ipython2",
   "version": "2.7.6"
  }
 },
 "nbformat": 4,
 "nbformat_minor": 0
}
